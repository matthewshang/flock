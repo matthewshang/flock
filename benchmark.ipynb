{
 "cells": [
  {
   "cell_type": "code",
   "execution_count": 2,
   "metadata": {},
   "outputs": [
    {
     "name": "stdout",
     "output_type": "stream",
     "text": [
      "The autoreload extension is already loaded. To reload it, use:\n",
      "  %reload_ext autoreload\n"
     ]
    }
   ],
   "source": [
    "%load_ext autoreload\n",
    "%autoreload 2\n"
   ]
  },
  {
   "cell_type": "code",
   "execution_count": 5,
   "metadata": {},
   "outputs": [],
   "source": [
    "import jax\n",
    "import jax_flock as jf\n",
    "import functools\n",
    "import stats\n",
    "\n",
    "params = jf.Params(\n",
    "    weight_forward  = 0.20,\n",
    "    weight_separate = 1.00,\n",
    "    weight_align    = 0.30,\n",
    "    weight_cohere   = 0.60,\n",
    "    weight_avoid    = 0.80\n",
    ")\n",
    "\n",
    "config = jf.Config(\n",
    "    boid_count = 100,\n",
    "    sphere_radius = 30.0\n",
    ")\n",
    "\n",
    "time_step = 1 / 60\n",
    "\n",
    "key = jax.random.PRNGKey(0)\n",
    "state = jf.init_state(config, key)\n",
    "def next_state(state):\n",
    "    return jf.next_state(params, config, time_step, state)\n",
    "\n",
    "time_average = jax.jit(stats.time_average, static_argnames=['next_fn', 'n_steps', 'J_fn'])\n",
    "a = time_average(state, next_state, 1000, jf.avg_sep).block_until_ready()"
   ]
  },
  {
   "cell_type": "code",
   "execution_count": 6,
   "metadata": {},
   "outputs": [
    {
     "name": "stdout",
     "output_type": "stream",
     "text": [
      "[cuda(id=0)]\n",
      "78.3 ms ± 386 µs per loop (mean ± std. dev. of 7 runs, 10 loops each)\n"
     ]
    }
   ],
   "source": [
    "print(jax.devices())\n",
    "%timeit time_average(state, next_state, 1000, jf.avg_sep).block_until_ready()"
   ]
  }
 ],
 "metadata": {
  "kernelspec": {
   "display_name": "flock_open3d",
   "language": "python",
   "name": "python3"
  },
  "language_info": {
   "codemirror_mode": {
    "name": "ipython",
    "version": 3
   },
   "file_extension": ".py",
   "mimetype": "text/x-python",
   "name": "python",
   "nbconvert_exporter": "python",
   "pygments_lexer": "ipython3",
   "version": "3.11.3"
  }
 },
 "nbformat": 4,
 "nbformat_minor": 2
}
