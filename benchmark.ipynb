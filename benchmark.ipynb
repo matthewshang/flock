{
 "cells": [
  {
   "cell_type": "code",
   "execution_count": 1,
   "metadata": {},
   "outputs": [],
   "source": [
    "%load_ext autoreload\n",
    "%autoreload 2"
   ]
  },
  {
   "cell_type": "code",
   "execution_count": 39,
   "metadata": {},
   "outputs": [],
   "source": [
    "import jax\n",
    "import jax_flock as jf\n",
    "import functools\n",
    "\n",
    "params = jf.Params(\n",
    "    weight_forward  = 0.20,\n",
    "    weight_separate = 1.00,\n",
    "    weight_align    = 0.30,\n",
    "    weight_cohere   = 0.60,\n",
    "    weight_avoid    = 0.80\n",
    ")\n",
    "\n",
    "config = jf.Config(\n",
    "    boid_count = 100,\n",
    "    sphere_radius = 30.0\n",
    ")\n",
    "\n",
    "time_step = 1 / 60\n",
    "\n",
    "next_state = functools.partial(jf.next_state, params, config, time_step)\n",
    "next_state = jax.jit(next_state)\n",
    "\n",
    "state = jf.init_state(config, seed=0)\n",
    "state = next_state(state)\n"
   ]
  },
  {
   "cell_type": "code",
   "execution_count": 42,
   "metadata": {},
   "outputs": [
    {
     "name": "stdout",
     "output_type": "stream",
     "text": [
      "1.9 ms ± 5.51 µs per loop (mean ± std. dev. of 7 runs, 1,000 loops each)\n"
     ]
    }
   ],
   "source": [
    "\n",
    "%timeit next_state(state)"
   ]
  }
 ],
 "metadata": {
  "kernelspec": {
   "display_name": "flock_open3d",
   "language": "python",
   "name": "python3"
  },
  "language_info": {
   "codemirror_mode": {
    "name": "ipython",
    "version": 3
   },
   "file_extension": ".py",
   "mimetype": "text/x-python",
   "name": "python",
   "nbconvert_exporter": "python",
   "pygments_lexer": "ipython3",
   "version": "3.10.11"
  }
 },
 "nbformat": 4,
 "nbformat_minor": 2
}
